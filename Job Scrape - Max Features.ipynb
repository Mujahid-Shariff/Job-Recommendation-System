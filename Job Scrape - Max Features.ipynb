{
 "cells": [
  {
   "cell_type": "code",
   "execution_count": 40,
   "id": "06374034",
   "metadata": {},
   "outputs": [],
   "source": [
    "import requests\n",
    "from bs4 import BeautifulSoup\n",
    "from selenium import webdriver\n",
    "import time\n",
    "import csv\n",
    "from datetime import date"
   ]
  },
  {
   "cell_type": "code",
   "execution_count": 41,
   "id": "4bda9c78",
   "metadata": {},
   "outputs": [],
   "source": [
    "with open(f\"E:\\DS - ExcelR\\P3\\LinkedIn {date.today()}.csv\",'a+',encoding='UTF8' ,newline='') as f:\n",
    "    writer = csv.writer(f)\n",
    "    header = [\"Date\",\"Job_Name\",\"Company\",'Loaction','Job_type','Employees','Followers','Applicant','Industry','Involvement']\n",
    "    writer.writerow(header)"
   ]
  },
  {
   "cell_type": "code",
   "execution_count": 42,
   "id": "13bf737b",
   "metadata": {},
   "outputs": [
    {
     "name": "stderr",
     "output_type": "stream",
     "text": [
      "C:\\Users\\admin\\AppData\\Local\\Temp\\ipykernel_7736\\2537104963.py:5: DeprecationWarning: executable_path has been deprecated, please pass in a Service object\n",
      "  driver = webdriver.Chrome(\"Driver/chromedriver.exe\")\n"
     ]
    }
   ],
   "source": [
    "# Creating login page and getting jobs page\n",
    "email = \"mujahidshariff757@gmail.com\"\n",
    "password= \"Onemanshow15\"\n",
    "\n",
    "driver = webdriver.Chrome(\"Driver/chromedriver.exe\")\n",
    "driver.get(\"https://linkedin.com/uas/login\")\n",
    "\n",
    "time.sleep(3)"
   ]
  },
  {
   "cell_type": "code",
   "execution_count": 43,
   "id": "8b2a3b4e",
   "metadata": {},
   "outputs": [],
   "source": [
    "#Inputing the login page\n",
    "username = driver.find_element(\"id\",\"username\")\n",
    "\n",
    "username.send_keys(email)\n",
    "\n",
    "passw = driver.find_element(\"id\",\"password\")\n",
    "passw.send_keys(password)\n",
    "\n",
    "driver.find_element(\"xpath\",\"//button[@type='submit']\").click()"
   ]
  },
  {
   "cell_type": "code",
   "execution_count": 44,
   "id": "f847428f",
   "metadata": {},
   "outputs": [
    {
     "data": {
      "text/plain": [
       "'https://www.linkedin.com/jobs/search?keywords=Data%20Scientist%20&location=india&geoId=&trk=public_jobs_jobs-search-bar_search-submit&position=1&pageNum=0'"
      ]
     },
     "execution_count": 44,
     "metadata": {},
     "output_type": "execute_result"
    }
   ],
   "source": [
    "job_name = \"Data Scientist\"\n",
    "country_name = \"india\"\n",
    "\n",
    "job_url =\"\";\n",
    "for item in job_name.split(\" \"):\n",
    "    if item != job_name.split(\" \")[-1]:\n",
    "        job_url = job_url + item + \"%20\"\n",
    "    else:\n",
    "        job_url = job_url + item + \"%20\"\n",
    "\n",
    "country_url =\"\";\n",
    "for item in country_name.split(\" \"):\n",
    "    if item != country_name.split(\" \")[-1]:\n",
    "        country_url = country_url + item + \"%20\"\n",
    "    else:\n",
    "        country_url = country_url + item\n",
    "\n",
    "url = \"https://www.linkedin.com/jobs/search?keywords={}&location={}&geoId=&trk=public_jobs_jobs-search-bar_search-submit&position=1&pageNum=0\".format(job_url,country_url)\n",
    "url"
   ]
  },
  {
   "cell_type": "code",
   "execution_count": 45,
   "id": "d9f64a98",
   "metadata": {},
   "outputs": [
    {
     "name": "stdout",
     "output_type": "stream",
     "text": [
      "going to next page\n"
     ]
    }
   ],
   "source": [
    "# heading to jobs page\n",
    "\n",
    "time.sleep(5)\n",
    "#job_url=\"https://www.linkedin.com/jobs/DataScientist\"\n",
    "driver.get(url)\n",
    "time.sleep(5)\n",
    "lnk = set()\n",
    "print(\"going to next page\")"
   ]
  },
  {
   "cell_type": "code",
   "execution_count": 46,
   "id": "e238e09f",
   "metadata": {},
   "outputs": [
    {
     "name": "stdout",
     "output_type": "stream",
     "text": [
      "2\n",
      "link_added\n",
      "3\n",
      "link_added\n",
      "{'https://www.linkedin.com/messaging/?', '/jobs/view/3546410601/?eBP=JOB_SEARCH_ORGANIC&recommendedFlavor=ACTIVELY_HIRING_COMPANY&refId=uV4UfiNpsuDvziUf%2B3ONqA%3D%3D&trackingId=Wsb4V465S623zSxdRJlsJg%3D%3D&trk=flagship3_search_srp_jobs', 'https://www.linkedin.com/premium/products/?upsellOrderOrigin=premium_messaging_inbox_upsell&destRedirectURL=https%3A%2F%2Fwww.linkedin.com%2Fjobs%2Fsearch%2F%3FcurrentJobId%3D3506838844%26geoId%3D%26keywords%3DData%2520Scientist%2520%26location%3Dindia', '/jobs/view/3551266830/?alternateChannel=search&refId=0Gc8i2xPKXjJTsBbh76c4w%3D%3D&trackingId=L7pNOiSCJFUs33Vgi5CCHQ%3D%3D&trk=d_flagship3_search_srp_jobs', '/company/51637411/', '/company/13218008/', '/company/82358899/', '/jobs/view/3422955048/?eBP=CwEAAAGHUcfB4TloeMVhi1qh8xNwoAJT5BIghQNllKXFGeUfOTc6EitV82yFMKiuI_EcqwbYxtLB2fWPInlAuhZU3dljXTetrYlH47UfqAUloBYGfyyYUxr69psLLptTj8ueRTqhi3DPyE31sBAAYcmVc3LnqesiysvSDI_4tA0GjLxlSKkfkXLDDuq9KDxEEPCMSZVJeDZ6MrorP3jelucbN2Lzq0HADMkRdSRem2kiIYVT6kjBHj21-doDpKkiYIcYdQxLRrEIru2fmCTtFuKFsTd7Tl_bdO-2HR8fxOdV9qcAJF-DwMF7va8jp5IaPfXiVKubwGQ3hWo_0QNNFzuUABnKbJ3K6bTnShmbEEVdsG7M3HkAkfyevxHun77N1VyPysRcRiwWNrxH&recommendedFlavor=ACTIVELY_HIRING_COMPANY&refId=uV4UfiNpsuDvziUf%2B3ONqA%3D%3D&trackingId=MW3WIJ1GNhTjDR84rGttKw%3D%3D&trk=flagship3_search_srp_jobs', 'https://www.linkedin.com/feed/?nis=true', 'https://www.linkedin.com/psettings/email/sendConfirmation', 'https://www.linkedin.com/jobs/?', '/jobs/view/3550376875/?eBP=JOB_SEARCH_ORGANIC&refId=uV4UfiNpsuDvziUf%2B3ONqA%3D%3D&trackingId=7ZCtg5GAwsnjh9lb3Z4qmg%3D%3D&trk=flagship3_search_srp_jobs', '/company/13429262/', '/company/14453810/', '/jobs/view/3552314823/?eBP=JOB_SEARCH_ORGANIC&recommendedFlavor=ACTIVELY_HIRING_COMPANY&refId=uV4UfiNpsuDvziUf%2B3ONqA%3D%3D&trackingId=pMwVlvUemiiiJVx6QcrOFw%3D%3D&trk=flagship3_search_srp_jobs', '/jobs/view/3556994634/?eBP=JOB_SEARCH_ORGANIC&recommendedFlavor=ACTIVELY_HIRING_COMPANY&refId=0Gc8i2xPKXjJTsBbh76c4w%3D%3D&trackingId=8uSmx8mgD4Mza4MxDMh1rA%3D%3D&trk=flagship3_search_srp_jobs', '/jobs/view/3506844197/?eBP=CwEAAAGHUcfB4ZzgKuYXfEsSS0tlHEq5S3NAm1YkwT7ItzffcgiUE0ZGq0XpGxHJrITZ7ksuznrpx96GUwoFVVkRSrpAQcS4bFNft_OtdsPvsFrXqonOEIJ2DKceyzT5ANq62njGk99HCbLTZ-S9L2kmXS2X73QigykuQVU302Nm0WCQ3zslIhIY9WL_PixiWrgDrrxiSnYyZ8pf-IeVCCtqL6gC_6-l8auGyMAYmqaLjIMY8LgK6mxUmQhClW3-zAqMtHqWfjve0Bbda3P9uCT4pqEshOidkKWr0doClmf5j6-wXQN7cLJZRkunr-Yjjx-5NJN-UinPXpykYqarG-2DuhBOMOezsULNcskT&refId=uV4UfiNpsuDvziUf%2B3ONqA%3D%3D&trackingId=32p79gnpAys5CXHHDTR4hA%3D%3D&trk=flagship3_search_srp_jobs', '/jobs/view/3550754929/?eBP=JOB_SEARCH_ORGANIC&refId=0Gc8i2xPKXjJTsBbh76c4w%3D%3D&trackingId=ZDsUD2sQvx8BGOV6%2B4UUzw%3D%3D&trk=flagship3_search_srp_jobs', '/company/13211556/', '/jobs/view/3506844197/?alternateChannel=search&refId=uV4UfiNpsuDvziUf%2B3ONqA%3D%3D&trackingId=32p79gnpAys5CXHHDTR4hA%3D%3D&trk=d_flagship3_search_srp_jobs', '/jobs/view/3551266830/?eBP=CwEAAAGHUcfX5ysCnFWP9SfyRe8zXqhUAC7l-S4C6lroBR_3Mgcmk4hPBmCGU-LElNVAl76hYb25GkIdzvNAiv9XKDpJv6E3uTXDeXa9FVevmjIFr8U5EpUVCp2tMnQcrMSoekjHxUal9sn7sCpP9Mdd2UuIZc8-tYPVqbZgTVnL7Y281g8VEkT4fqUJ4QG7qbsxiaNTWC8HOsbPNFLd8cLoh4FCBz1kTuOVus1yOtGR8pS5MCoz-Uc47EtyBYUEIYBc1bTaqsud0Qg1N6GlXhQ7Os_LSLKXYK8A4v_xPKW0xPvk-t0dSw3wsZPUaZ3MOnxDP5z48oWkSH4ojv_hoz6uoKjp6_XrElrriQ&refId=0Gc8i2xPKXjJTsBbh76c4w%3D%3D&trackingId=L7pNOiSCJFUs33Vgi5CCHQ%3D%3D&trk=flagship3_search_srp_jobs', '/company/1276159/', '/company/9215331/', '#', 'https://www.linkedin.com/mynetwork/?', '/jobs/view/3544597963/?eBP=JOB_SEARCH_ORGANIC&recommendedFlavor=ACTIVELY_HIRING_COMPANY&refId=0Gc8i2xPKXjJTsBbh76c4w%3D%3D&trackingId=8HYe49xvNOex92R4kwCxiA%3D%3D&trk=flagship3_search_srp_jobs', 'https://www.linkedin.com/premium/products/?upsellOrderOrigin=premium_nav_upsell_text&destRedirectURL=https%3A%2F%2Fwww.linkedin.com%2Fjobs%2Fsearch%2F%3Fkeywords%3DData%2520Scientist%2520%26location%3Dindia%26geoId%3D%26trk%3Dpublic_jobs_jobs-search-bar_search-submit%26position%3D1%26pageNum%3D0', 'https://www.linkedin.com/notifications/?', 'https://www.linkedin.com/feed/?nis=true&', '/company/33307792/', '/jobs/view/3551953123/?eBP=JOB_SEARCH_ORGANIC&recommendedFlavor=JOB_SEEKER_QUALIFIED&refId=uV4UfiNpsuDvziUf%2B3ONqA%3D%3D&trackingId=NB69XLowktVYw7ZiXLKqWQ%3D%3D&trk=flagship3_search_srp_jobs', '/jobs/view/3556989449/?eBP=JOB_SEARCH_ORGANIC&recommendedFlavor=ACTIVELY_HIRING_COMPANY&refId=0Gc8i2xPKXjJTsBbh76c4w%3D%3D&trackingId=7tJ3FHxEYLIYVYIQxrMDTQ%3D%3D&trk=flagship3_search_srp_jobs', '/jobs/view/3545600020/?eBP=JOB_SEARCH_ORGANIC&refId=0Gc8i2xPKXjJTsBbh76c4w%3D%3D&trackingId=97YjI5RGMHwd3iyv64Pwyw%3D%3D&trk=flagship3_search_srp_jobs', '/company/28690435/', '/company/10438325/', '/jobs/view/3549927255/?eBP=JOB_SEARCH_ORGANIC&recommendedFlavor=ACTIVELY_HIRING_COMPANY&refId=uV4UfiNpsuDvziUf%2B3ONqA%3D%3D&trackingId=ys3J0f4k%2BjWtKQetlCwIRA%3D%3D&trk=flagship3_search_srp_jobs', '/company/391020/', 'https://www.linkedin.com/premium/products/?upsellOrderOrigin=premium_job_search_bottom_upsell&premiumFeatureType=APPLICANT_INSIGHTS&utype=job&destRedirectURL=https%3A%2F%2Fwww.linkedin.com%2Fjobs%2Fsearch%2F%3FcurrentJobId%3D3506844197%26geoId%3D%26keywords%3DData%2520Scientist%2520%26location%3Dindia%26start%3D25', '/jobs/view/3549553439/?eBP=JOB_SEARCH_ORGANIC&refId=0Gc8i2xPKXjJTsBbh76c4w%3D%3D&trackingId=T3kROJm5sRWGDJ6M2VK6Ug%3D%3D&trk=flagship3_search_srp_jobs', '/company/28707955/'}\n"
     ]
    }
   ],
   "source": [
    "# Changing pages and getting all links of pages\n",
    "\n",
    "for i in range(2,4):\n",
    "    driver.find_element(\"xpath\",f\"//button[@aria-label='Page {i}']\").click()\n",
    "\n",
    "    print(i)\n",
    "    src = driver.page_source\n",
    "\n",
    "    soup = BeautifulSoup(src,'html.parser')\n",
    "        \n",
    "    anc= soup.find_all('a')\n",
    "            \n",
    "    for i in anc:\n",
    "        lnk.add(i.get('href'))\n",
    "            \n",
    "    print('link_added')\n",
    "    time.sleep(3)\n",
    "print(lnk)"
   ]
  },
  {
   "cell_type": "code",
   "execution_count": 47,
   "id": "f57d285f",
   "metadata": {},
   "outputs": [],
   "source": [
    "# link added to lnk variable now selecting only jobs link and adding to XT variable\n",
    "\n",
    "xt = []\n",
    "for i in lnk:\n",
    "    if i[:6] == '/jobs/':     \n",
    "        m = 'https://www.linkedin.com/'+i   \n",
    "        xt.append(m)\n",
    "    #print(xt)"
   ]
  },
  {
   "cell_type": "code",
   "execution_count": 48,
   "id": "0913c6d7",
   "metadata": {},
   "outputs": [
    {
     "name": "stdout",
     "output_type": "stream",
     "text": [
      "[datetime.date(2023, 4, 5), 'Interesting Job Opportunity: Quality Assurance Automation Engineer - Selenium/Appium', 'Awign', 'Bengaluru, Karnataka, India', 'On-site', '201-500 employees', '57,148 followers', '175 applicants', 'Computer Software', 'Full-time · Entry level']\n",
      "[datetime.date(2023, 4, 5), 'Senior Engineer -MS Security', 'NTT Global Data Centers', 'Pune, Maharashtra, India', 'Hybrid', '501-1,000 employees', '41,266 followers', '75 applicants', 'Information Technology & Services', 'Full-time · Mid-Senior level']\n",
      "[datetime.date(2023, 4, 5), 'Machine Learning Internship in Ahmedabad at FINGERTIPS', 'Fingertips', 'Ahmedabad, Gujarat, India', 'On-site', '51-200 employees', '2,752 followers', '41 applicants', 'E-learning', 'Full-time · Internship']\n",
      "[datetime.date(2023, 4, 5), 'Data Scientist', 'DATAECONOMY', 'Greater Hyderabad Area', 'Hybrid', '201-500 employees', '4,092 followers', '24 applicants', 'Information Technology & Services', 'Full-time · Mid-Senior level']\n",
      "[datetime.date(2023, 4, 5), 'data science', 'Futures And Careers', 'Bengaluru, Karnataka, India', 'On-site', '11-50 employees', '5,277 followers', '31 applicants', 'Human Resources', 'Full-time · Entry level']\n",
      "[datetime.date(2023, 4, 5), 'Apply for Data Analyst', 'JMN Investments Research', 'Chennai, Tamil Nadu, India', 'Hybrid', '11-50 employees', '1,333 followers', '110 applicants', 'Investment Banking', 'Full-time · Entry level']\n",
      "[datetime.date(2023, 4, 5), 'Data Engineer-Data Science Team', 'KreditBee', 'Bengaluru, Karnataka, India', 'On-site', '1,001-5,000 employees', '22,041 followers', '16 hours ago                                  Over 200 applicants', 'Financial Services', 'Full-time · Associate']\n",
      "[datetime.date(2023, 4, 5), 'Data Analyst/Scientist', 'iOPEX Technologies', 'India', 'Remote', '1,001-5,000 employees', '48,535 followers', '5 days ago                                  Over 200 applicants', 'Information Technology & Services', 'Full-time · Entry level']\n",
      "[datetime.date(2023, 4, 5), 'Data Science work from home job/internship at Blackcoffer', 'Blackcoffer', 'India', 'Remote', '51-200 employees', '4,965 followers', '6 days ago                                  Over 200 applicants', 'Information Technology & Services', 'Full-time · Internship']\n"
     ]
    }
   ],
   "source": [
    "# Links added now getting data from all the pages       \n",
    "    \n",
    "for i in xt:\n",
    "    try:\n",
    "        driver.get(i)\n",
    "        time.sleep(5)\n",
    "        src2 = driver.page_source\n",
    "        soup2 = BeautifulSoup(src2,'html.parser')\n",
    "        \n",
    "        try:\n",
    "            title = soup2.find('h1',class_='t-24 t-bold jobs-unified-top-card__job-title').text.replace('\\n','').strip()\n",
    "        except:\n",
    "            try:\n",
    "                title = soup2.find('a',class_='ember-view t-black t-normal').text.replace('\\n','').strip()\n",
    "            except :\n",
    "                title = 'Null'\n",
    "        \n",
    "        try:\n",
    "            company = soup2.find('span',class_='jobs-unified-top-card__company-name').text.replace('\\n','').strip()\n",
    "        except:\n",
    "            try:\n",
    "                company = soup2.find('a',class_='ember-view t-black t-normal').text.replace('\\n','').strip()\n",
    "            except :\n",
    "                company = 'Null'\n",
    "\n",
    "\n",
    "        location = soup2.find('span',class_='jobs-unified-top-card__bullet').text.replace('\\n','').strip()\n",
    "        typ = soup2.find('span',class_='jobs-unified-top-card__workplace-type').text.replace('\\n','').strip()\n",
    "\n",
    "\n",
    "        try:\n",
    "            employees = soup2.find('span',class_='jobs-company__inline-information').text.replace('\\n','').strip() \n",
    "        except:\n",
    "            employees = 'Null'\n",
    "\n",
    "\n",
    "        try:\n",
    "            followers = soup2.find('div',class_='artdeco-entity-lockup__subtitle ember-view t-16').text.replace('\\n','').strip().replace('\\n','').strip()\n",
    "        except:\n",
    "            try:\n",
    "                followers = soup2.find('div',class_='artdeco-entity-lockup__content ember-view flex-grow-1').text.replace('\\n','').strip()\n",
    "            except:\n",
    "                followers = 'Null'  \n",
    "\n",
    "        try:\n",
    "            applicant = soup2.find('span',class_='jobs-unified-top-card__applicant-count').text.replace('\\n','').strip() \n",
    "        except:\n",
    "            try:\n",
    "                applicant = soup2.find('span',class_='jobs-unified-top-card__subtitle-secondary-grouping t-black--light').text.replace('\\n','').strip()\n",
    "            except:\n",
    "                applicant = 'Null'\n",
    "\n",
    "\n",
    "\n",
    "        industry = soup2.find('div',class_='t-14 mt5')\n",
    "        for i in industry:\n",
    "            industry = i.text.replace('\\n','').strip()\n",
    "            break\n",
    "\n",
    "        involvement = soup2.find('li',class_='jobs-unified-top-card__job-insight').text.replace('\\n','').strip()\n",
    "        Date = date.today()\n",
    "\n",
    "        rows = [Date,title,company,location,typ,employees,followers,applicant,industry,involvement]\n",
    "        print(rows)\n",
    "\n",
    "\n",
    "        with open(f\"E:\\DS - ExcelR\\P3\\LinkedIn {date.today()}.csv\",'a+',encoding='UTF8' ,newline='') as f:\n",
    "            writer = csv.writer(f)     \n",
    "            writer.writerow(rows)\n",
    "    except:\n",
    "        pass"
   ]
  },
  {
   "cell_type": "code",
   "execution_count": 39,
   "id": "2ef02613",
   "metadata": {},
   "outputs": [
    {
     "data": {
      "text/plain": [
       "<_csv.writer at 0x26c11a363b0>"
      ]
     },
     "execution_count": 39,
     "metadata": {},
     "output_type": "execute_result"
    }
   ],
   "source": [
    "# writer = pd.DataFrame({\n",
    "#     'Job Title': title,\n",
    "#     'Company Name': company,\n",
    "#     'No. of employees': employees,\n",
    "#     'Location': location,\n",
    "#     'Linkedin Followers': followers,\n",
    "#     'No. of applicants submitted': applicant,\n",
    "#     'Type of industry': industry,\n",
    "#     'Involvement': involvement,\n",
    "#     'Industry': job_ind,\n",
    "#     'Link': job_link\n",
    "# })\n",
    "# writer"
   ]
  },
  {
   "cell_type": "code",
   "execution_count": null,
   "id": "ba06d70b",
   "metadata": {},
   "outputs": [],
   "source": []
  }
 ],
 "metadata": {
  "kernelspec": {
   "display_name": "Python 3 (ipykernel)",
   "language": "python",
   "name": "python3"
  },
  "language_info": {
   "codemirror_mode": {
    "name": "ipython",
    "version": 3
   },
   "file_extension": ".py",
   "mimetype": "text/x-python",
   "name": "python",
   "nbconvert_exporter": "python",
   "pygments_lexer": "ipython3",
   "version": "3.9.13"
  }
 },
 "nbformat": 4,
 "nbformat_minor": 5
}
